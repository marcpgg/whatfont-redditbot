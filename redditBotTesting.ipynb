{
 "cells": [
  {
   "cell_type": "code",
   "execution_count": 1,
   "metadata": {},
   "outputs": [],
   "source": [
    "import praw\n",
    "import time\n",
    "import os\n",
    "import pickle\n",
    "import pprint\n",
    "import requests\n",
    "from bs4 import BeautifulSoup\n",
    "import pprint\n"
   ]
  },
  {
   "cell_type": "markdown",
   "metadata": {},
   "source": [
    "## Login"
   ]
  },
  {
   "cell_type": "code",
   "execution_count": 5,
   "metadata": {},
   "outputs": [],
   "source": [
    "\n",
    "\n",
    "def login_bot():\n",
    "    print('Starting Bot ....')\n",
    "    print ('Logging in ....')\n",
    "    reddit = praw.Reddit('whatfontbot',\n",
    "            user_agent = 'WhatFontBot')\n",
    "\n",
    "    print(\"Log in successful!\")\n",
    "    return reddit\n",
    "\n"
   ]
  },
  {
   "cell_type": "markdown",
   "metadata": {},
   "source": [
    "### Check if comment.submission.link / comment.submission.selftext always exist in submission objects.\n"
   ]
  },
  {
   "cell_type": "code",
   "execution_count": 87,
   "metadata": {
    "scrolled": false
   },
   "outputs": [
    {
     "name": "stdout",
     "output_type": "stream",
     "text": [
      "Starting Bot ....\n",
      "Logging in ....\n",
      "Log in successful!\n"
     ]
    }
   ],
   "source": [
    "reddit = login_bot()\n",
    "\n",
    "\n",
    "submission = reddit.submission(id='9vwatr')\n",
    "\n"
   ]
  },
  {
   "cell_type": "code",
   "execution_count": null,
   "metadata": {
    "scrolled": true
   },
   "outputs": [],
   "source": [
    "pprint.pprint(vars(submission))"
   ]
  },
  {
   "cell_type": "code",
   "execution_count": 72,
   "metadata": {
    "scrolled": true
   },
   "outputs": [],
   "source": [
    "#comentari = submission._comments_by_id['t1_e91p77l']\n",
    "#print(comentari.body)"
   ]
  },
  {
   "cell_type": "code",
   "execution_count": 88,
   "metadata": {
    "scrolled": false
   },
   "outputs": [
    {
     "name": "stdout",
     "output_type": "stream",
     "text": [
      "https://i.redd.it/9t9l2riqkjx11.jpg\n"
     ]
    }
   ],
   "source": [
    "print(submission.url)"
   ]
  },
  {
   "cell_type": "code",
   "execution_count": 104,
   "metadata": {
    "scrolled": true
   },
   "outputs": [
    {
     "name": "stdout",
     "output_type": "stream",
     "text": [
      "image/jpeg\n",
      "https://i.redd.it/9t9l2riqkjx11.jpg\n"
     ]
    }
   ],
   "source": [
    "resp = requests.get(submission.url)\n",
    "print (resp.headers['content-type']) # It is an iamge\n",
    "print (submission.url)\n",
    "   "
   ]
  },
  {
   "cell_type": "code",
   "execution_count": 89,
   "metadata": {
    "scrolled": true
   },
   "outputs": [
    {
     "name": "stdout",
     "output_type": "stream",
     "text": [
      "None\n"
     ]
    }
   ],
   "source": [
    "print (submission.selftext_html)"
   ]
  },
  {
   "cell_type": "code",
   "execution_count": 105,
   "metadata": {
    "scrolled": true
   },
   "outputs": [],
   "source": [
    "def img_url_parser(text):\n",
    "\n",
    "    # if selftexthtml passed is empty\n",
    "    if text == None:\n",
    "        return None\n",
    "\n",
    "    # text IS a url\n",
    "    if text.startswith('http'):\n",
    "        try:\n",
    "            resp = requests.get(text)\n",
    "\n",
    "            if 'image/' in resp.headers['content-type']:\n",
    "                # It is an iamge\n",
    "                img_url = text\n",
    "                return img_url\n",
    "\n",
    "            else:\n",
    "                # If text is url but not an image\n",
    "                print('URL but not an image')\n",
    "                return None\n",
    "        except:\n",
    "            print('GET failed')\n",
    "            return None\n",
    "\n",
    "    # Here is where we start  if we pass a selftexthtml , let's Find URLs in it\n",
    "    soup = BeautifulSoup (text, 'html.parser')\n",
    "    \n",
    "    if not soup.find_all('a'): #there are no urls in text\n",
    "        return None\n",
    "        \n",
    "    for url in soup.find_all('a'):\n",
    "        # Al loro recursivismos\n",
    "        img_url = img_url_parser(url.get('href'))\n",
    "    \n",
    "    \n",
    "    return img_url"
   ]
  },
  {
   "cell_type": "code",
   "execution_count": 106,
   "metadata": {
    "scrolled": true
   },
   "outputs": [
    {
     "name": "stdout",
     "output_type": "stream",
     "text": [
      "https://i.redd.it/9t9l2riqkjx11.jpg\n"
     ]
    }
   ],
   "source": [
    "print( img_url_parser(submission.url))"
   ]
  },
  {
   "cell_type": "code",
   "execution_count": 103,
   "metadata": {},
   "outputs": [
    {
     "name": "stdout",
     "output_type": "stream",
     "text": [
      "https://i.redd.it/9t9l2riqkjx11.jpg\n"
     ]
    }
   ],
   "source": [
    "print (submission.url)"
   ]
  },
  {
   "cell_type": "markdown",
   "metadata": {},
   "source": [
    "Submissions w/o body, have submission.selftext == to an empty string and,  have a submission.selftext_html==None\n",
    "is_video always present, linked YT videos do not make is_video True. (maybe only reddit hosted videos do)\n",
    "Avoid YT videos by looking at 'url' attribute and skipping youtube.com\n",
    "YT videos have a media object attribute( media\\['oembed'\\]\\['type'\\]== 'video'\n",
    "Submissions w/ image linked have attribute 'media' == None and so do Submissions w/o image linked\n",
    "Submissions w/ an image linked, have a 'url' attribute linking to image url\n",
    "Submissions w/o an image linked have a 'url' attribute linking to the reddit submission itself"
   ]
  },
  {
   "cell_type": "code",
   "execution_count": null,
   "metadata": {},
   "outputs": [],
   "source": []
  },
  {
   "cell_type": "code",
   "execution_count": null,
   "metadata": {},
   "outputs": [],
   "source": []
  },
  {
   "cell_type": "code",
   "execution_count": null,
   "metadata": {},
   "outputs": [],
   "source": []
  },
  {
   "cell_type": "markdown",
   "metadata": {},
   "source": [
    "#### URL Parser\n",
    "Might Use selftext_html to parse '<a' href=https://imgur.com/a/yYWXVFM>https://imgur.com/a/yYWXVFM</a>'\\"
   ]
  },
  {
   "cell_type": "code",
   "execution_count": null,
   "metadata": {},
   "outputs": [],
   "source": [
    "recog_fonts = ['one', 'two', 'three']\n",
    "\n",
    "        \n",
    "message = '''These are the best matching fonts I could find: {}.\n",
    "\n",
    "***\n",
    "\n",
    "        _I was made by u/pggmrt, I use [Whatfontis](https://www.whatfontis.com) API\n",
    "        and  you can  check my code [here](https://wwww.github.com/pggmrt)_\n",
    "        '''.format(', '.join(recog_fonts))\n",
    "\n"
   ]
  },
  {
   "cell_type": "code",
   "execution_count": null,
   "metadata": {},
   "outputs": [],
   "source": [
    "print (message)"
   ]
  },
  {
   "cell_type": "code",
   "execution_count": null,
   "metadata": {},
   "outputs": [],
   "source": [
    "mylist = ['x', '3', 'b']\n",
    "print('[%s]' % ', '.join(map(str, mylist)))"
   ]
  },
  {
   "cell_type": "code",
   "execution_count": null,
   "metadata": {},
   "outputs": [],
   "source": [
    "print(', '.join(mylist))"
   ]
  },
  {
   "cell_type": "markdown",
   "metadata": {},
   "source": [
    "##### Testing PICKLE\n"
   ]
  },
  {
   "cell_type": "code",
   "execution_count": null,
   "metadata": {},
   "outputs": [],
   "source": [
    "import pickle\n"
   ]
  },
  {
   "cell_type": "code",
   "execution_count": null,
   "metadata": {},
   "outputs": [],
   "source": [
    "def load_commented():\n",
    "    if not os.path.isfile(\"test.pkl\"):\n",
    "        print ('file not found')\n",
    "        commented = []\n",
    "    else:\n",
    "        print('file found')\n",
    "        with open ('test.pkl', 'rb') as fp:\n",
    "            commented = pickle.load(fp)\n",
    "\n",
    "    return commented"
   ]
  },
  {
   "cell_type": "code",
   "execution_count": null,
   "metadata": {},
   "outputs": [],
   "source": [
    "id1 = 'abcd5'\n",
    "commented = load_commented()    \n",
    "commented.append(id1)\n",
    "with open('test.pkl', 'wb') as fp:\n",
    "    pickle.dump(commented, fp)\n",
    "\n",
    "print (commented)\n",
    "    "
   ]
  },
  {
   "cell_type": "code",
   "execution_count": null,
   "metadata": {},
   "outputs": [],
   "source": [
    "with open ('test.pkl', 'rb') as fp:\n",
    "    tested = pickle.load(fp)\n",
    "\n",
    "print (tested)"
   ]
  },
  {
   "cell_type": "code",
   "execution_count": null,
   "metadata": {},
   "outputs": [],
   "source": []
  },
  {
   "cell_type": "code",
   "execution_count": null,
   "metadata": {},
   "outputs": [],
   "source": [
    "print(\\n\\n***\\n\\n^(Bleep-bloop. I am a bot. |))"
   ]
  },
  {
   "cell_type": "markdown",
   "metadata": {},
   "source": [
    "## JSONBIN API\n"
   ]
  },
  {
   "cell_type": "code",
   "execution_count": 1,
   "metadata": {},
   "outputs": [
    {
     "ename": "NameError",
     "evalue": "name 'img_url' is not defined",
     "output_type": "error",
     "traceback": [
      "\u001b[0;31m---------------------------------------------------------------------------\u001b[0m",
      "\u001b[0;31mNameError\u001b[0m                                 Traceback (most recent call last)",
      "\u001b[0;32m<ipython-input-1-3e9766eb6e89>\u001b[0m in \u001b[0;36m<module>\u001b[0;34m\u001b[0m\n\u001b[1;32m     12\u001b[0m       \u001b[0;34m\"F\"\u001b[0m\u001b[0;34m:\u001b[0m \u001b[0;34m\"1\"\u001b[0m\u001b[0;34m,\u001b[0m\u001b[0;34m\u001b[0m\u001b[0m\n\u001b[1;32m     13\u001b[0m       \"INFO\": {\n\u001b[0;32m---> 14\u001b[0;31m          \u001b[0;34m\"urlimage\"\u001b[0m\u001b[0;34m:\u001b[0m \u001b[0mimg_url\u001b[0m\u001b[0;34m\u001b[0m\u001b[0m\n\u001b[0m\u001b[1;32m     15\u001b[0m       }\n\u001b[1;32m     16\u001b[0m    }\n",
      "\u001b[0;31mNameError\u001b[0m: name 'img_url' is not defined"
     ]
    }
   ],
   "source": [
    "img_urltest = \"https://www.fontsmarket.com/font-thumb/arial-bold\"\n",
    "\n",
    "\n",
    "\n",
    "jsonkey = \"XXXXXXXXXXXXX\"\n",
    "jsonurl = 'https://api.jsonbin.io/b/<ID>'\n",
    "headers = {'Content-Type': 'application/json'}\n",
    "datajson = {\n",
    "   \"FONT\": {\n",
    "      \"API_KEY\": \"XXXXXXXXXXXXXXXXX\",\n",
    "      \"P\": \"1\",\n",
    "      \"F\": \"1\",\n",
    "      \"INFO\": {\n",
    "         \"urlimage\": img_url         \n",
    "      }\n",
    "   }\n",
    "}\n",
    "\n",
    "reqbin = requests.put(jsonurl, json=datajson, headers=headers)\n",
    "print(reqbin.text)"
   ]
  },
  {
   "cell_type": "code",
   "execution_count": 9,
   "metadata": {},
   "outputs": [
    {
     "name": "stdout",
     "output_type": "stream",
     "text": [
      "JSON updated, version: 24\n"
     ]
    }
   ],
   "source": [
    "jsonbin = reqbin.json()\n",
    "print(\"JSON updated, version: {}\".format(jsonbin[\"version\"]))\n",
    "\n",
    "finaljsonurl = jsonurl + \"/\" + str(jsonbin[\"version\"])\n"
   ]
  },
  {
   "cell_type": "markdown",
   "metadata": {},
   "source": [
    "## Checking whatfontis API response\n"
   ]
  },
  {
   "cell_type": "code",
   "execution_count": 7,
   "metadata": {},
   "outputs": [],
   "source": [
    "import json\n",
    "\n",
    "# Required input json\n",
    "datatest = {\n",
    "   \"FONT\": {\n",
    "      \"API_KEY\": \"XXXXXXXXXXXX\",\n",
    "      \"P\": \"1\",\n",
    "      \"F\": \"1\",\n",
    "      \"INFO\": {\n",
    "         \"urlimage\": \"https://afsp.imgix.net/wp-content/uploads/2018/03/billboard-mockup-notalone.jpg\"         \n",
    "      }\n",
    "   }\n",
    "}\n",
    "\n",
    "  "
   ]
  },
  {
   "cell_type": "code",
   "execution_count": 10,
   "metadata": {
    "scrolled": true
   },
   "outputs": [
    {
     "name": "stdout",
     "output_type": "stream",
     "text": [
      "<Response [200]>\n"
     ]
    }
   ],
   "source": [
    "import requests\n",
    "#data = {'file': json.dumps(datatest), 'limit': 3}\n",
    "json_url = \"https://api.myjson.com/bins/XXXX\"\n",
    "json_url2 = \"https://api.jsonbin.io/b/<ID>/23\"\n",
    "#finaljsonurl\n",
    "response = requests.get('https://www.whatfontis.com/api/?file={}&limit=3'.format(finaljsonurl) )\n",
    "                         \n",
    "print (response)"
   ]
  },
  {
   "cell_type": "code",
   "execution_count": 11,
   "metadata": {
    "scrolled": false
   },
   "outputs": [
    {
     "name": "stdout",
     "output_type": "stream",
     "text": [
      "{'_content': b'[{\"title\":\"Gill Sans Hellenic Bold\",\"url\":\"https:\\\\/\\\\/www.wha'\n",
      "             b'tfontis.com\\\\/NFC_Gill-Sans-Hellenic-Bold.font\",\"image\":\"http'\n",
      "             b's:\\\\/\\\\/www.whatfontis.com\\\\/img16\\\\/G\\\\/I\\\\/NFC_Gill-Sans-Hel'\n",
      "             b'lenic-BoldA.png\"},{\"title\":\"Humanist 521 BT Bold\",\"url\":\"htt'\n",
      "             b'ps:\\\\/\\\\/www.whatfontis.com\\\\/NFC_Humanist-521-BT-Bold.font\",\"i'\n",
      "             b'mage\":\"https:\\\\/\\\\/www.whatfontis.com\\\\/img16\\\\/H\\\\/U\\\\/NFC_Hu'\n",
      "             b'manist-521-BT-BoldA.png\"},{\"title\":\"Humanist 521 Bold\",\"url\":\"ht'\n",
      "             b'tps:\\\\/\\\\/www.whatfontis.com\\\\/NFC_Humanist-521-Bold.font\",\"ima'\n",
      "             b'ge\":\"https:\\\\/\\\\/www.whatfontis.com\\\\/img16\\\\/H\\\\/U\\\\/NFC_Huma'\n",
      "             b'nist-521-BoldA.png\"}]',\n",
      " '_content_consumed': True,\n",
      " '_next': None,\n",
      " 'connection': <requests.adapters.HTTPAdapter object at 0x103f1e4a8>,\n",
      " 'cookies': <RequestsCookieJar[Cookie(version=0, name='SESSIONID', value='wfi1s', port=None, port_specified=False, domain='www.whatfontis.com', domain_specified=False, domain_initial_dot=False, path='/', path_specified=True, secure=False, expires=None, discard=True, comment=None, comment_url=None, rest={}, rfc2109=False)]>,\n",
      " 'elapsed': datetime.timedelta(0, 3, 89171),\n",
      " 'encoding': 'UTF-8',\n",
      " 'headers': {'Date': 'Tue, 13 Nov 2018 02:50:17 GMT', 'Vary': 'Accept-Encoding,User-Agent', 'Content-Encoding': 'gzip', 'Cache-Control': 'max-age=2592000, private', 'Expires': 'Thu, 13 Dec 2018 02:50:17 GMT', 'Content-Length': '186', 'Content-Type': 'text/html; charset=UTF-8', 'x-frame-options': 'SAMEORIGIN', 'Set-Cookie': 'SESSIONID=wfi1s; path=/'},\n",
      " 'history': [],\n",
      " 'raw': <urllib3.response.HTTPResponse object at 0x103f95470>,\n",
      " 'reason': 'OK',\n",
      " 'request': <PreparedRequest [GET]>,\n",
      " 'status_code': 200,\n",
      " 'url': 'https://www.whatfontis.com/api/?file=https://api.jsonbin.io/b/5be9e416dfd6922d0a12a1b4/24&limit=3'}\n",
      "[{'title': 'Gill Sans Hellenic Bold', 'url': 'https://www.whatfontis.com/NFC_Gill-Sans-Hellenic-Bold.font', 'image': 'https://www.whatfontis.com/img16/G/I/NFC_Gill-Sans-Hellenic-BoldA.png'}, {'title': 'Humanist 521 BT Bold', 'url': 'https://www.whatfontis.com/NFC_Humanist-521-BT-Bold.font', 'image': 'https://www.whatfontis.com/img16/H/U/NFC_Humanist-521-BT-BoldA.png'}, {'title': 'Humanist 521 Bold', 'url': 'https://www.whatfontis.com/NFC_Humanist-521-Bold.font', 'image': 'https://www.whatfontis.com/img16/H/U/NFC_Humanist-521-BoldA.png'}]\n"
     ]
    }
   ],
   "source": [
    "import pprint\n",
    "pprint.pprint(vars(response))\n",
    "fonts_data = response.json()\n",
    "print (fonts_data)"
   ]
  },
  {
   "cell_type": "markdown",
   "metadata": {},
   "source": [
    "### Whatfontis API returns a list of dicts/json for each font it found"
   ]
  },
  {
   "cell_type": "code",
   "execution_count": 14,
   "metadata": {},
   "outputs": [
    {
     "name": "stdout",
     "output_type": "stream",
     "text": [
      "Humanist 521 BT Bold\n"
     ]
    }
   ],
   "source": [
    "print(fonts_data[1][\"title\"])"
   ]
  },
  {
   "cell_type": "code",
   "execution_count": 15,
   "metadata": {},
   "outputs": [
    {
     "ename": "NameError",
     "evalue": "name 'data' is not defined",
     "output_type": "error",
     "traceback": [
      "\u001b[0;31m---------------------------------------------------------------------------\u001b[0m",
      "\u001b[0;31mNameError\u001b[0m                                 Traceback (most recent call last)",
      "\u001b[0;32m<ipython-input-15-e9b37894b549>\u001b[0m in \u001b[0;36m<module>\u001b[0;34m\u001b[0m\n\u001b[0;32m----> 1\u001b[0;31m \u001b[0mrecog_fuentes\u001b[0m \u001b[0;34m=\u001b[0m \u001b[0;34m[\u001b[0m\u001b[0;34m\"[{}]({})\"\u001b[0m\u001b[0;34m.\u001b[0m\u001b[0mformat\u001b[0m\u001b[0;34m(\u001b[0m\u001b[0mitem\u001b[0m\u001b[0;34m[\u001b[0m\u001b[0;34m\"title\"\u001b[0m\u001b[0;34m]\u001b[0m\u001b[0;34m,\u001b[0m \u001b[0mitem\u001b[0m\u001b[0;34m[\u001b[0m\u001b[0;34m\"url\"\u001b[0m\u001b[0;34m]\u001b[0m\u001b[0;34m)\u001b[0m\u001b[0;32mfor\u001b[0m \u001b[0mitem\u001b[0m \u001b[0;32min\u001b[0m \u001b[0mdata\u001b[0m\u001b[0;34m]\u001b[0m\u001b[0;34m\u001b[0m\u001b[0m\n\u001b[0m",
      "\u001b[0;31mNameError\u001b[0m: name 'data' is not defined"
     ]
    }
   ],
   "source": [
    "recog_fuentes = [\"[{}]({})\".format(item[\"title\"], item[\"url\"])for item in data]"
   ]
  },
  {
   "cell_type": "code",
   "execution_count": 60,
   "metadata": {},
   "outputs": [
    {
     "name": "stdout",
     "output_type": "stream",
     "text": [
      "list is not empty, we're in the IF\n"
     ]
    }
   ],
   "source": [
    "cacalist = [\"something\"]\n",
    "\n",
    "if  cacalist:\n",
    "    \n",
    "    print (\"list is not empty, we're in the IF\")"
   ]
  },
  {
   "cell_type": "code",
   "execution_count": 37,
   "metadata": {},
   "outputs": [
    {
     "name": "stdout",
     "output_type": "stream",
     "text": [
      "['[Gerlach Sans Regular](https://www.whatfontis.com/NMY_Gerlach-Sans-Regular.font)', '[Gerlach Sans Light](https://www.whatfontis.com/NMY_Gerlach-Sans-Light.font)']\n"
     ]
    }
   ],
   "source": [
    "print (recog_fuentes)"
   ]
  },
  {
   "cell_type": "code",
   "execution_count": 74,
   "metadata": {},
   "outputs": [
    {
     "name": "stdout",
     "output_type": "stream",
     "text": [
      "JSON updated in jsonbin.io, version: 13\n",
      "WhatFontIs API failed\n",
      "None\n"
     ]
    }
   ],
   "source": [
    "from fontrecog import font_recog\n",
    "urlimg = \"https://i.stack.imgur.com/YcXcM.png\"\n",
    "\n",
    "print (font_recog(urlimg))"
   ]
  },
  {
   "cell_type": "code",
   "execution_count": 73,
   "metadata": {},
   "outputs": [
    {
     "name": "stdout",
     "output_type": "stream",
     "text": [
      "JSON updated in jsonbin.io, version: 11\n",
      "WhatFontIs API failed\n",
      "None\n"
     ]
    }
   ],
   "source": [
    "from fontrecog import font_recog\n",
    "\n",
    "print (font_recog(\"https://i.stack.imgur.com/YcXcM.png\"))"
   ]
  },
  {
   "cell_type": "code",
   "execution_count": 38,
   "metadata": {},
   "outputs": [
    {
     "name": "stdout",
     "output_type": "stream",
     "text": [
      "These are the best matching fonts I could find: [Gerlach Sans Regular](https://www.whatfontis.com/NMY_Gerlach-Sans-Regular.font), [Gerlach Sans Light](https://www.whatfontis.com/NMY_Gerlach-Sans-Light.font).\n",
      "\n",
      "***\n",
      "\n",
      "        _I am a bot, I use [Whatfontis](https://www.whatfontis.com) \n",
      "        and  you can  check my code [here](https://wwww.github.com/pggmrt)_\n",
      "        \n"
     ]
    }
   ],
   "source": [
    "message = '''These are the best matching fonts I could find: {}.\n",
    "\n",
    "***\n",
    "\n",
    "        _I am a bot, I use [Whatfontis](https://www.whatfontis.com) \n",
    "        and  you can  check my code [here](https://wwww.github.com/pggmrt)_\n",
    "        '''.format(', '.join(recog_fuentes))\n",
    "\n",
    "print (message)"
   ]
  },
  {
   "cell_type": "code",
   "execution_count": null,
   "metadata": {},
   "outputs": [],
   "source": []
  },
  {
   "cell_type": "code",
   "execution_count": null,
   "metadata": {},
   "outputs": [],
   "source": [
    "comentari = reddit.get_info(thing_id=\"e91p77l\")\n",
    "print(comentari)"
   ]
  },
  {
   "cell_type": "markdown",
   "metadata": {},
   "source": [
    "## Selenium webdriver WhatTheFont testtt"
   ]
  },
  {
   "cell_type": "code",
   "execution_count": null,
   "metadata": {
    "scrolled": true
   },
   "outputs": [],
   "source": [
    "from selenium import webdriver\n",
    "#from selenium.webdriver.chrome.options import Options\n",
    "import os\n",
    "driver = webdriver.Chrome()\n",
    "driver.get(\"https://www.myfonts.com/WhatTheFont/\")\n",
    "driver.find_element_by_class_name(\"wtfDragArea_description_filePicker\").send_keys(\"/Users/marc/Desktop/macintosh.jpg\")\n",
    "\n",
    "#.send_keys(\"../whatfont-bot/macintosh.jpg\")\n",
    "#driver.findElement(By.className(\"button\"))\n",
    "\n",
    "#submit_button = driver.find_element_by_class_name(\"wtfCropToolbar_cropButton \")\n",
    "#submit_button.click()\n"
   ]
  },
  {
   "cell_type": "markdown",
   "metadata": {},
   "source": [
    "### Url Parser"
   ]
  },
  {
   "cell_type": "code",
   "execution_count": null,
   "metadata": {},
   "outputs": [],
   "source": [
    "import requests\n",
    "from bs4 import BeautifulSoup\n",
    "\n",
    "\n",
    "url\n",
    "response = requests.get(url)\n",
    "print (requests.get())\n",
    "#soup = BeautifulSoup(response.content, 'html.parser')\n",
    "    \n",
    "\n"
   ]
  }
 ],
 "metadata": {
  "kernelspec": {
   "display_name": "Python 3",
   "language": "python",
   "name": "python3"
  },
  "language_info": {
   "codemirror_mode": {
    "name": "ipython",
    "version": 3
   },
   "file_extension": ".py",
   "mimetype": "text/x-python",
   "name": "python",
   "nbconvert_exporter": "python",
   "pygments_lexer": "ipython3",
   "version": "3.6.5"
  },
  "widgets": {
   "state": {},
   "version": "1.1.2"
  }
 },
 "nbformat": 4,
 "nbformat_minor": 2
}
